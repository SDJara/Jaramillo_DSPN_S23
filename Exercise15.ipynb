{
  "cells": [
    {
      "cell_type": "markdown",
      "metadata": {
        "id": "-2W919d2ZXp7"
      },
      "source": [
        "# Exercise 15: Power Analyses"
      ]
    },
    {
      "cell_type": "markdown",
      "metadata": {
        "id": "L4nOzVhyZXqK"
      },
      "source": [
        "This  assignment is designed to give you practice with Monte Carlo methods to conduct power analyses via simulation. You won't need to load in any data for this homework. We will, however, be using parts of the homework from last week."
      ]
    },
    {
      "cell_type": "markdown",
      "metadata": {
        "id": "9DsyBTB6ZXqN"
      },
      "source": [
        "---\n",
        "## 1. Simulating data (1 points)\n"
      ]
    },
    {
      "cell_type": "markdown",
      "metadata": {
        "id": "J1f6MywYhyzN"
      },
      "source": [
        "Pull your `simulate_data()` function from your last homework and add it below. \n",
        "\n",
        "As a reminder, this function simulates the relationship between age, word reading experience, and reading comprehension skill. \n",
        "\n",
        "`c` is reading comprehension, and `x` is word reading experience."
      ]
    },
    {
      "cell_type": "code",
      "execution_count": 1,
      "metadata": {
        "id": "UnBVazYfZXqP",
        "outputId": "43a8a8b3-77a0-431b-cc69-39b24a9af098",
        "colab": {
          "base_uri": "https://localhost:8080/",
          "height": 286
        }
      },
      "outputs": [
        {
          "output_type": "display_data",
          "data": {
            "text/html": [
              "<table class=\"dataframe\">\n",
              "<caption>A data.frame: 6 × 3</caption>\n",
              "<thead>\n",
              "\t<tr><th></th><th scope=col>Age</th><th scope=col>Experience</th><th scope=col>Comprehension</th></tr>\n",
              "\t<tr><th></th><th scope=col>&lt;dbl&gt;</th><th scope=col>&lt;dbl&gt;</th><th scope=col>&lt;dbl&gt;</th></tr>\n",
              "</thead>\n",
              "<tbody>\n",
              "\t<tr><th scope=row>1</th><td>108.7343</td><td> 53.82182</td><td>153.35079</td></tr>\n",
              "\t<tr><th scope=row>2</th><td>184.3343</td><td> 24.87975</td><td> 73.53553</td></tr>\n",
              "\t<tr><th scope=row>3</th><td>107.9788</td><td> 53.76689</td><td>244.75646</td></tr>\n",
              "\t<tr><th scope=row>4</th><td>189.9121</td><td> 96.90713</td><td>401.60573</td></tr>\n",
              "\t<tr><th scope=row>5</th><td>184.3163</td><td>-32.26344</td><td>181.29409</td></tr>\n",
              "\t<tr><th scope=row>6</th><td>139.5223</td><td> 40.68676</td><td>400.07175</td></tr>\n",
              "</tbody>\n",
              "</table>\n"
            ],
            "text/markdown": "\nA data.frame: 6 × 3\n\n| <!--/--> | Age &lt;dbl&gt; | Experience &lt;dbl&gt; | Comprehension &lt;dbl&gt; |\n|---|---|---|---|\n| 1 | 108.7343 |  53.82182 | 153.35079 |\n| 2 | 184.3343 |  24.87975 |  73.53553 |\n| 3 | 107.9788 |  53.76689 | 244.75646 |\n| 4 | 189.9121 |  96.90713 | 401.60573 |\n| 5 | 184.3163 | -32.26344 | 181.29409 |\n| 6 | 139.5223 |  40.68676 | 400.07175 |\n\n",
            "text/latex": "A data.frame: 6 × 3\n\\begin{tabular}{r|lll}\n  & Age & Experience & Comprehension\\\\\n  & <dbl> & <dbl> & <dbl>\\\\\n\\hline\n\t1 & 108.7343 &  53.82182 & 153.35079\\\\\n\t2 & 184.3343 &  24.87975 &  73.53553\\\\\n\t3 & 107.9788 &  53.76689 & 244.75646\\\\\n\t4 & 189.9121 &  96.90713 & 401.60573\\\\\n\t5 & 184.3163 & -32.26344 & 181.29409\\\\\n\t6 & 139.5223 &  40.68676 & 400.07175\\\\\n\\end{tabular}\n",
            "text/plain": [
              "  Age      Experience Comprehension\n",
              "1 108.7343  53.82182  153.35079    \n",
              "2 184.3343  24.87975   73.53553    \n",
              "3 107.9788  53.76689  244.75646    \n",
              "4 189.9121  96.90713  401.60573    \n",
              "5 184.3163 -32.26344  181.29409    \n",
              "6 139.5223  40.68676  400.07175    "
            ]
          },
          "metadata": {}
        }
      ],
      "source": [
        "sample_size = 100 # How many children in data set? \n",
        "age_lo = 80     # minimum age, in months\n",
        "age_hi = 200    # maximum age, in months\n",
        "beta_xa = 0.5   # amount by which experience changes for increase of one month in age\n",
        "beta_x0 = -5    # amount of experience when age = 0 (not interpretable, since minimum age for this data is 80 months)\n",
        "sd_x = 50       # standard dev of gaussian noise term, epsilon_x\n",
        "beta_ca = 0.8   # amount that comprehension score improves for every increase of one unit in age\n",
        "beta_cx = 3     # amount that comprehension score improves for every increase of one unit in reading experience\n",
        "beta_c0 = 10    # comprehension score when reading experience is 0. \n",
        "sd_c = 85      # standard dev of gaussian noise term, epsilon_c\n",
        "\n",
        "simulate_data <- function(sample_size, age_lo, age_hi, beta_xa, \n",
        "                          beta_x0, sd_x, beta_ca, beta_cx, beta_c0, sd_c) {\n",
        "      # WRITE YOUR CODE HERE\n",
        "      age <- runif(n = sample_size,min = age_lo,max = age_hi)\n",
        "\n",
        "      x <- beta_xa*age + beta_x0 + rnorm(n = sample_size,sd = sd_x)\n",
        "        \n",
        "      c <- beta_ca*age + beta_cx*x + beta_c0 + rnorm(n = sample_size,sd = sd_c)\n",
        "\n",
        "      return(data.frame(Age = age, Experience = x, Comprehension = c))\n",
        "}\n",
        "\n",
        "dat <- simulate_data(sample_size, age_lo, age_hi, beta_xa, beta_x0, sd_x, beta_ca, beta_cx, beta_c0, sd_c)\n",
        "head(dat)"
      ]
    },
    {
      "cell_type": "markdown",
      "metadata": {
        "id": "T3b3_KsHk-xD"
      },
      "source": [
        "---\n",
        "## 2. `run_analysis()` function (2 pts)"
      ]
    },
    {
      "cell_type": "markdown",
      "metadata": {
        "id": "TJyPIaTO8zCS"
      },
      "source": [
        "Last week, we looked at whether word reading experience(`x`) mediated the relation between `age` and reading comprehension (`c`).\n",
        "\n",
        "Now we're going to use our `simulate_data()` function to conduct a power analysis. The goal is to determine how many participants we would need in order to detect both the mediated and the direct effects in this data. \n",
        "\n",
        "*Note: We're going to pretend for the sake of simplicity that we don't have any control over the ages of the children we get (so ages are generated using `runif(sample_size, age_lo, age_hi)`, although of course this would be an unusual situation in reality.*\n",
        "\n",
        "First, write a function, `run_analysis()`, that takes in simulated data, runs **your mediation from last week**, and returns a vector containing the ACME and ADE estimates and p-values (these are the `d0`, `d0.p`, `z0`, and `z0.p` features of the mediated model object, e.g., `fitMed$d0.p`). Print this function's output for the data we simulated previously. "
      ]
    },
    {
      "cell_type": "code",
      "execution_count": 2,
      "metadata": {
        "id": "AidH_KidrX9L",
        "scrolled": true,
        "outputId": "e3e8e260-b2d3-4226-d131-260880cf9dd6",
        "colab": {
          "base_uri": "https://localhost:8080/",
          "height": 375
        }
      },
      "outputs": [
        {
          "output_type": "stream",
          "name": "stderr",
          "text": [
            "Installing package into ‘/usr/local/lib/R/site-library’\n",
            "(as ‘lib’ is unspecified)\n",
            "\n",
            "also installing the dependencies ‘checkmate’, ‘htmlwidgets’, ‘zoo’, ‘gridExtra’, ‘htmlTable’, ‘viridis’, ‘Formula’, ‘minqa’, ‘nloptr’, ‘Rcpp’, ‘RcppEigen’, ‘mvtnorm’, ‘sandwich’, ‘lpSolve’, ‘Hmisc’, ‘lme4’\n",
            "\n",
            "\n",
            "Loading required package: MASS\n",
            "\n",
            "Loading required package: Matrix\n",
            "\n",
            "Loading required package: mvtnorm\n",
            "\n",
            "Loading required package: sandwich\n",
            "\n",
            "mediation: Causal Mediation Analysis\n",
            "Version: 4.5.0\n",
            "\n",
            "\n"
          ]
        },
        {
          "output_type": "display_data",
          "data": {
            "text/html": [
              "<style>\n",
              ".list-inline {list-style: none; margin:0; padding: 0}\n",
              ".list-inline>li {display: inline-block}\n",
              ".list-inline>li:not(:last-child)::after {content: \"\\00b7\"; padding: 0 .5ex}\n",
              "</style>\n",
              "<ol class=list-inline><li>1.57630350592219</li><li>0</li><li>1.02358487858049</li><li>0</li></ol>\n"
            ],
            "text/markdown": "1. 1.57630350592219\n2. 0\n3. 1.02358487858049\n4. 0\n\n\n",
            "text/latex": "\\begin{enumerate*}\n\\item 1.57630350592219\n\\item 0\n\\item 1.02358487858049\n\\item 0\n\\end{enumerate*}\n",
            "text/plain": [
              "[1] 1.576304 0.000000 1.023585 0.000000"
            ]
          },
          "metadata": {}
        }
      ],
      "source": [
        "# WRITE YOUR CODE HERE\n",
        "install.packages(\"mediation\")\n",
        "library(mediation)\n",
        "\n",
        "run_analysis <- function(dat) {\n",
        "  \n",
        "  m1 <- lm(Experience ~ Age, dat)\n",
        "  m2 <- lm(Comprehension ~ Experience + Age, dat)\n",
        "\n",
        "  model <- mediate(m1,m2, treat = \"Age\", mediator = \"Experience\") \n",
        "\n",
        "  d0 <- model$d0 \n",
        "  d0.p <- model$d0.p \n",
        "\n",
        "  z0 <- model$z0 \n",
        "  z0.p <- model$z0.p \n",
        "\n",
        "  return(c(d0, d0.p, z0, z0.p))\n",
        "}\n",
        "   \n",
        "run_analysis(dat)\n"
      ]
    },
    {
      "cell_type": "markdown",
      "metadata": {
        "id": "bHxz5W2r5s79"
      },
      "source": [
        "---\n",
        "## 3. `repeat_analysis()` function (3 pts)"
      ]
    },
    {
      "cell_type": "markdown",
      "metadata": {
        "id": "G_jvc1XQBCpH"
      },
      "source": [
        "Next fill in the function `repeat_analysis()` below so that it simulates and analyzes data `num_simulations` times. Store the outputs from each simulation in the `simouts` matrix. Calculate and return the coverage across all the simulations run for both ACME and ADE."
      ]
    },
    {
      "cell_type": "code",
      "execution_count": 3,
      "metadata": {
        "id": "NheOpBDsBBo9"
      },
      "outputs": [],
      "source": [
        "repeat_analysis <- function(num_simulations, alpha, sample_size, age_lo, age_hi, \n",
        "        beta_xa, beta_x0, sd_x, beta_ca, beta_cx, beta_c0, sd_c) {\n",
        "    # Initialize simouts matrix for storing each output from run_analysis()\n",
        "    simouts <- matrix(rep(NA, num_simulations*4), nrow=num_simulations, ncol=4)\n",
        "    \n",
        "    # Start simulating\n",
        "    for (i in 1:num_simulations) {\n",
        "      # WRITE YOUR CODE HERE\n",
        "      dat <- simulate_data(sample_size, age_lo, age_hi, beta_xa, beta_x0, sd_x,\n",
        "                           beta_ca, beta_cx, beta_c0, sd_c)\n",
        "\n",
        "     simouts[i,] <- run_analysis(dat)\n",
        "    }\n",
        "    \n",
        "    ACME_cov =  mean(simouts[,2]<=alpha)\n",
        "    ADE_cov =  mean(simouts[,4]<=alpha)\n",
        "\n",
        "    return(list(ACME_cov = ACME_cov, ADE_cov = ADE_cov))\n",
        "}"
      ]
    },
    {
      "cell_type": "markdown",
      "metadata": {
        "id": "bM5J5pYyQoRL"
      },
      "source": [
        "Now run the `repeat_analysis()` function using the same parameter settings as above, for 10 simulations, with an alpha criterion of 0.01. "
      ]
    },
    {
      "cell_type": "code",
      "execution_count": 4,
      "metadata": {
        "id": "RpURGbZQQlEK",
        "outputId": "e2fe578b-6d13-42a1-bd2f-f2df7bc8c839",
        "colab": {
          "base_uri": "https://localhost:8080/",
          "height": 114
        }
      },
      "outputs": [
        {
          "output_type": "display_data",
          "data": {
            "text/html": [
              "<dl>\n",
              "\t<dt>$ACME_cov</dt>\n",
              "\t\t<dd>0.8</dd>\n",
              "\t<dt>$ADE_cov</dt>\n",
              "\t\t<dd>1</dd>\n",
              "</dl>\n"
            ],
            "text/markdown": "$ACME_cov\n:   0.8\n$ADE_cov\n:   1\n\n\n",
            "text/latex": "\\begin{description}\n\\item[\\$ACME\\_cov] 0.8\n\\item[\\$ADE\\_cov] 1\n\\end{description}\n",
            "text/plain": [
              "$ACME_cov\n",
              "[1] 0.8\n",
              "\n",
              "$ADE_cov\n",
              "[1] 1\n"
            ]
          },
          "metadata": {}
        }
      ],
      "source": [
        "# WRITE YOUR CODE HERE\n",
        "repeat_analysis(num_simulations = 10, alpha = 0.01, sample_size, age_lo, age_hi, \n",
        "                beta_xa, beta_x0, sd_x, beta_ca, beta_cx, beta_c0, sd_c)\n"
      ]
    },
    {
      "cell_type": "markdown",
      "metadata": {
        "id": "imIoN4w65s7_"
      },
      "source": [
        "---\n",
        "## 4. Testing different sample sizes (2 pts)"
      ]
    },
    {
      "cell_type": "markdown",
      "metadata": {
        "id": "CzeTaoY7SaXv"
      },
      "source": [
        "Finally, do the same thing (10 simulations, alpha criterion of 0.01) but for 5 different sample sizes: 50, 75, 100, 125, 150. You can do this using `map` (as in the tutorial), or a simple `for` loop, or by calculating each individually. Up to you! This should take around 3 minutes to run. "
      ]
    },
    {
      "cell_type": "code",
      "execution_count": 6,
      "metadata": {
        "id": "mp-a19XsS8Md"
      },
      "outputs": [],
      "source": [
        "# WRITE YOUR CODE HERE\n",
        "require(tidyverse)\n",
        "\n",
        "n <- c(50, 75, 100, 125, 150)\n",
        "num_sample_size <- length(n)\n",
        "df <- matrix(NA, ncol = 3, nrow = 5)\n",
        "colnames(df) <- c(\"num_sim\", \"ACME_cov\", \"ADE_cov\")\n",
        "\n",
        "\n",
        "for (i in 1:num_sample_size) {\n",
        "  sample_size = n[i]\n",
        "  df[i,\"num_sim\"] <- sample_size\n",
        "  \n",
        "  out <- repeat_analysis(num_simulations = 10, alpha = 0.01,\n",
        "                        sample_size = sample_size, age_lo,\n",
        "                        age_hi, beta_xa, beta_x0, sd_x, beta_ca,\n",
        "                        beta_cx, beta_c0, sd_c)\n",
        "  \n",
        "  df[i, \"ACME_cov\"] <- out$ACME_cov\n",
        "  df[i, \"ADE_cov\"] <- out$ADE_cov\n",
        "    \n",
        "}"
      ]
    },
    {
      "cell_type": "markdown",
      "metadata": {
        "id": "akJwKCB7dkDw"
      },
      "source": [
        "Print your results. "
      ]
    },
    {
      "cell_type": "code",
      "execution_count": 8,
      "metadata": {
        "id": "gIkkWTG2aR4d",
        "scrolled": true,
        "outputId": "4bf9a356-b032-429a-cc0a-cf384c92cf4d",
        "colab": {
          "base_uri": "https://localhost:8080/",
          "height": 223
        }
      },
      "outputs": [
        {
          "output_type": "display_data",
          "data": {
            "text/html": [
              "<table class=\"dataframe\">\n",
              "<caption>A matrix: 5 × 3 of type dbl</caption>\n",
              "<thead>\n",
              "\t<tr><th scope=col>num_sim</th><th scope=col>ACME_cov</th><th scope=col>ADE_cov</th></tr>\n",
              "</thead>\n",
              "<tbody>\n",
              "\t<tr><td> 50</td><td>0.3</td><td>0.2</td></tr>\n",
              "\t<tr><td> 75</td><td>0.6</td><td>0.6</td></tr>\n",
              "\t<tr><td>100</td><td>0.7</td><td>0.7</td></tr>\n",
              "\t<tr><td>125</td><td>0.8</td><td>0.7</td></tr>\n",
              "\t<tr><td>150</td><td>1.0</td><td>0.8</td></tr>\n",
              "</tbody>\n",
              "</table>\n"
            ],
            "text/markdown": "\nA matrix: 5 × 3 of type dbl\n\n| num_sim | ACME_cov | ADE_cov |\n|---|---|---|\n|  50 | 0.3 | 0.2 |\n|  75 | 0.6 | 0.6 |\n| 100 | 0.7 | 0.7 |\n| 125 | 0.8 | 0.7 |\n| 150 | 1.0 | 0.8 |\n\n",
            "text/latex": "A matrix: 5 × 3 of type dbl\n\\begin{tabular}{lll}\n num\\_sim & ACME\\_cov & ADE\\_cov\\\\\n\\hline\n\t  50 & 0.3 & 0.2\\\\\n\t  75 & 0.6 & 0.6\\\\\n\t 100 & 0.7 & 0.7\\\\\n\t 125 & 0.8 & 0.7\\\\\n\t 150 & 1.0 & 0.8\\\\\n\\end{tabular}\n",
            "text/plain": [
              "     num_sim ACME_cov ADE_cov\n",
              "[1,]  50     0.3      0.2    \n",
              "[2,]  75     0.6      0.6    \n",
              "[3,] 100     0.7      0.7    \n",
              "[4,] 125     0.8      0.7    \n",
              "[5,] 150     1.0      0.8    "
            ]
          },
          "metadata": {}
        }
      ],
      "source": [
        "# WRITE YOUR CODE HERE\n",
        "head(df)"
      ]
    },
    {
      "cell_type": "markdown",
      "metadata": {
        "id": "q3Oo6npB5s8B"
      },
      "source": [
        "## 5. Reflection (2 pts)"
      ]
    },
    {
      "cell_type": "markdown",
      "metadata": {
        "id": "tpbGkul2dr-5"
      },
      "source": [
        "If this were a real power analysis, we'd want to run more simulations per sample size (to get a more precise estimate of power) and we may also want to test out some other values of the parameters we used to simulate our data. However, what would you conclude just based on the results above? \n",
        "\n",
        "> *Write your response here.* \n",
        "> \n",
        "Coverage increases as sample size increases. When we get to sample size of 150, we are 80% likely to correctly reject the null.  "
      ]
    },
    {
      "cell_type": "markdown",
      "metadata": {
        "id": "RcCo3QOifUi5"
      },
      "source": [
        "**Given** how we generated the data, why was the direct effect harder to detect than the mediated effect?\n",
        "> *Write your response here.* \n",
        "The way we generated data, we used rnorm which scales our data which isn't ideal and made it harder to detect the direct effect. "
      ]
    },
    {
      "cell_type": "markdown",
      "metadata": {
        "id": "C4MPECMmZXqe"
      },
      "source": [
        "**DUE:** 5pm EST, April 5, 2023"
      ]
    },
    {
      "cell_type": "markdown",
      "metadata": {
        "id": "r9GUofXN4BVy"
      },
      "source": [
        "**IMPORTANT** Did you collaborate with anyone on this assignment? If so, list their names here. \n",
        "> *Someone's Name*"
      ]
    }
  ],
  "metadata": {
    "colab": {
      "provenance": []
    },
    "kernelspec": {
      "display_name": "R",
      "language": "R",
      "name": "ir"
    },
    "language_info": {
      "codemirror_mode": "r",
      "file_extension": ".r",
      "mimetype": "text/x-r-source",
      "name": "R",
      "pygments_lexer": "r",
      "version": "4.2.0"
    }
  },
  "nbformat": 4,
  "nbformat_minor": 0
}