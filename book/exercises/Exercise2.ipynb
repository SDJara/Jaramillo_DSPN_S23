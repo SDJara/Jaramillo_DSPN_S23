{
  "cells": [
    {
      "cell_type": "markdown",
      "metadata": {
        "id": "view-in-github",
        "colab_type": "text"
      },
      "source": [
        "<a href=\"https://colab.research.google.com/github/SDJara/Jaramillo_DSPN_S23/blob/main/book/exercises/Exercise2.ipynb\" target=\"_parent\"><img src=\"https://colab.research.google.com/assets/colab-badge.svg\" alt=\"Open In Colab\"/></a>"
      ]
    },
    {
      "cell_type": "markdown",
      "metadata": {
        "id": "FY3ycKSUk9WS"
      },
      "source": [
        "# Exercise 2: Coding Habits & Functions"
      ]
    },
    {
      "cell_type": "markdown",
      "metadata": {
        "id": "-7yew43Ok9WV"
      },
      "source": [
        "This assignment will give you some practice writing your own functions and using the coding best practices discussed in the tutorial.\n",
        "\n",
        "---"
      ]
    },
    {
      "cell_type": "markdown",
      "metadata": {
        "id": "RfVOiSUJk9WW"
      },
      "source": [
        "## 1. Summary statistics (4 pts)\n",
        "\n",
        "Write a function that takes a vector of numbers `x` and returns the length, mean, and standard deviation of `x` as a new vector.\n",
        "\n",
        "In keeping with our best practices, give the function a short but descriptive name, and use snake case if it involves multiple words. \n",
        "\n",
        "Hint: Vectors are defined in R using the `c()` command."
      ]
    },
    {
      "cell_type": "code",
      "execution_count": 1,
      "metadata": {
        "colab": {
          "base_uri": "https://localhost:8080/"
        },
        "id": "pvxhiEGMk9WX",
        "outputId": "725fd32e-f088-40f6-dbe8-98768539f5dd"
      },
      "outputs": [
        {
          "output_type": "stream",
          "name": "stdout",
          "text": [
            "  Length     Mean       SD\n",
            "1      6 74.66817 3.531305\n"
          ]
        }
      ],
      "source": [
        "#Write your function here\n",
        "\n",
        "#creating empty dataframe so we can save values from optim\n",
        "table <- data.frame(Length = NA, Mean = NA, SD = NA)\n",
        "\n",
        "#creating vector of data\n",
        "x <- c(76.490, 72.338, 76.947, 71.536, 79.689, 71.009)\n",
        "\n",
        "Summary_function <- function(data) {\n",
        "  \n",
        "  table[\"Length\"] <- length(data)\n",
        "  \n",
        "  table[\"Mean\"] <- mean(data)\n",
        "  \n",
        "  table[\"SD\"] <- sd(data)\n",
        "  \n",
        "  print(table)\n",
        "  \n",
        "}\n",
        "\n",
        "Summary_function(x)"
      ]
    },
    {
      "cell_type": "markdown",
      "metadata": {
        "id": "MSUXOxh_k9WY"
      },
      "source": [
        "Calculate the summary statistics of vector `v1`."
      ]
    },
    {
      "cell_type": "code",
      "execution_count": 2,
      "metadata": {
        "scrolled": false,
        "colab": {
          "base_uri": "https://localhost:8080/"
        },
        "id": "q9cDaO1_k9WY",
        "outputId": "9f9c9809-00d9-4720-88ea-3ad2d010cf73"
      },
      "outputs": [
        {
          "output_type": "stream",
          "name": "stdout",
          "text": [
            "  Length Mean       SD\n",
            "1      4 7.75 2.753785\n"
          ]
        }
      ],
      "source": [
        "v1  <- c(5, 11, 6, NA, 9)\n",
        "\n",
        "#your_function_name(v1)\n",
        "Summary_function <- function(data) {\n",
        "  \n",
        "  table[\"Length\"] <- length(na.omit(data))\n",
        "  \n",
        "  table[\"Mean\"] <- mean(data, na.rm = TRUE)\n",
        "  \n",
        "  table[\"SD\"] <- sd(data, na.rm = TRUE)\n",
        "  \n",
        "  print(table)\n",
        "  \n",
        "}\n",
        "\n",
        "Summary_function(v1)"
      ]
    },
    {
      "cell_type": "markdown",
      "metadata": {
        "id": "v7vdp8Y5k9WZ"
      },
      "source": [
        "---\n",
        "## 2. T-test function (4 pts)\n",
        "\n",
        "The formula for a t-test is:"
      ]
    },
    {
      "cell_type": "markdown",
      "metadata": {
        "id": "8Fkj45KMk9WZ"
      },
      "source": [
        "$$ \\frac{m- \\mu}{ \\frac{s}{\\sqrt{n}}} $$"
      ]
    },
    {
      "cell_type": "markdown",
      "metadata": {
        "id": "rXLGG1uPk9WZ"
      },
      "source": [
        "Where m is the sample mean, $\\mu$ (mu) is the population mean, s is the standard deviation, and n is the sample size.\n",
        "\n",
        "Using your function above as a starting point, write a new function `ttest_fun` that compares a vector `x` to a given population mean `mu` and calculates the t-statistic. Keep the coding best practices in mind.\n",
        "\n",
        "Hint: You will need to add another argument for mu."
      ]
    },
    {
      "cell_type": "code",
      "execution_count": 3,
      "metadata": {
        "id": "tRiOsV0_k9Wa"
      },
      "outputs": [],
      "source": [
        "# Write ttest_fun here\n",
        "ttest_fun <- function(data,mu) {\n",
        "  \n",
        "  numerator <- mean(data, na.rm = TRUE) - mu\n",
        "  \n",
        "  denominator <- sd(data, na.rm = TRUE)/sqrt(length(na.omit(data)))\n",
        "  \n",
        "  output <- numerator/denominator\n",
        "  \n",
        "  print(output) #output is equivalent to the ttest statistic\n",
        "  \n",
        "}"
      ]
    },
    {
      "cell_type": "markdown",
      "metadata": {
        "id": "nzFmCQT0k9Wa"
      },
      "source": [
        "Use your function to compare the mean of v1 to 10."
      ]
    },
    {
      "cell_type": "code",
      "execution_count": 4,
      "metadata": {
        "colab": {
          "base_uri": "https://localhost:8080/"
        },
        "id": "GyEZKeHUk9Wa",
        "outputId": "b832f373-0574-4bb2-a8d5-008811618d15"
      },
      "outputs": [
        {
          "output_type": "stream",
          "name": "stdout",
          "text": [
            "[1] -1.634114\n"
          ]
        }
      ],
      "source": [
        "ttest_fun(v1, 10)"
      ]
    },
    {
      "cell_type": "markdown",
      "metadata": {
        "id": "zip7GgOek9Wb"
      },
      "source": [
        "---\n",
        "## 3. Setting default values (2 pts)\n",
        "\n",
        "Set the default value of mu to 0. Test your modified function below by supplying only `v2` as an argument."
      ]
    },
    {
      "cell_type": "code",
      "execution_count": 5,
      "metadata": {
        "id": "M8XGgXdOk9Wb"
      },
      "outputs": [],
      "source": [
        "# Write your modified ttest_fun here\n",
        "ttest_fun <- function(data) {\n",
        "  \n",
        "  mu <- 0\n",
        "  \n",
        "  numerator <- mean(data, na.rm = TRUE) - mu\n",
        "  \n",
        "  denominator <- round(sd(data, na.rm = TRUE), digits = 2)/sqrt(length(na.omit(data)))\n",
        "  \n",
        "  output <- numerator/denominator\n",
        "  \n",
        "  print(output) #output is equivalent to the ttest statistic\n",
        "  \n",
        "}"
      ]
    },
    {
      "cell_type": "code",
      "execution_count": 6,
      "metadata": {
        "colab": {
          "base_uri": "https://localhost:8080/"
        },
        "id": "_LDer9Xvk9Wb",
        "outputId": "3558f9c1-1cc0-41c6-f4a8-b2563676b0a9"
      },
      "outputs": [
        {
          "output_type": "stream",
          "name": "stdout",
          "text": [
            "[1] 3.209172\n"
          ]
        }
      ],
      "source": [
        "v2 <- c(3, 7, 1, NA, 8, 12)\n",
        "ttest_fun(v2)"
      ]
    },
    {
      "cell_type": "markdown",
      "metadata": {
        "id": "WexZivBtk9Wb"
      },
      "source": [
        "How does your result compare to R's built-in `t.test()` function?"
      ]
    },
    {
      "cell_type": "code",
      "execution_count": 7,
      "metadata": {
        "scrolled": true,
        "colab": {
          "base_uri": "https://localhost:8080/",
          "height": 208
        },
        "id": "scHUeqkTk9Wb",
        "outputId": "e71f7561-389d-4ad2-a175-8c30a322cae9"
      },
      "outputs": [
        {
          "output_type": "display_data",
          "data": {
            "text/plain": [
              "\n",
              "\tOne Sample t-test\n",
              "\n",
              "data:  v2\n",
              "t = 3.2059, df = 4, p-value = 0.03272\n",
              "alternative hypothesis: true mean is not equal to 0\n",
              "95 percent confidence interval:\n",
              "  0.8306107 11.5693893\n",
              "sample estimates:\n",
              "mean of x \n",
              "      6.2 \n"
            ]
          },
          "metadata": {}
        }
      ],
      "source": [
        "t.test(v2)\n",
        "\n",
        "#Yay! Everything runs and my function matches the ttest output from the base R\n",
        "#function."
      ]
    },
    {
      "cell_type": "markdown",
      "metadata": {
        "id": "2slWzsoYGuLt"
      },
      "source": [
        "When you are finished, save the notebook as Exercise2.ipynb, push it to your class GitHub repository (the one you made for Exercise 1) and send the instructors a link to your notebook via Canvas. You can send messages via Canvas by clicking \"Inbox\" on the left and then pressing the icon with a pencil inside a square."
      ]
    },
    {
      "cell_type": "markdown",
      "metadata": {
        "id": "C4MPECMmZXqe"
      },
      "source": [
        "**DUE:** 5pm EST, Feb 6, 2023"
      ]
    },
    {
      "cell_type": "markdown",
      "metadata": {
        "id": "r9GUofXN4BVy"
      },
      "source": [
        "**IMPORTANT** Did you collaborate with anyone on this assignment? If so, list their names here. \n",
        "> *Someone's Name*"
      ]
    }
  ],
  "metadata": {
    "kernelspec": {
      "display_name": "R",
      "language": "R",
      "name": "ir"
    },
    "language_info": {
      "codemirror_mode": "r",
      "file_extension": ".r",
      "mimetype": "text/x-r-source",
      "name": "R",
      "pygments_lexer": "r",
      "version": "4.2.0"
    },
    "colab": {
      "provenance": [],
      "include_colab_link": true
    }
  },
  "nbformat": 4,
  "nbformat_minor": 0
}