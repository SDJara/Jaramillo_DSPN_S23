{
  "cells": [
    {
      "cell_type": "markdown",
      "metadata": {
        "id": "szkkhiCZDF52"
      },
      "source": [
        "Sara Jaramillo \n",
        "\n",
        "### Exploring how people interpret Bayes Factors from visualizations\n",
        "\n"
      ]
    },
    {
      "cell_type": "markdown",
      "metadata": {
        "id": "QJscNReoylRt"
      },
      "source": [
        "\n",
        "## Background\n",
        "\n",
        "\n",
        "Communicating scientific information effectively and accurately is no easy task. We have many tools to aid communicating findings, but arguably visualizations are one of our strongest tools to choose from. Depending on your audience, you can adjust the amount and type of visual properties to most clearly communicate your findings. There has been a recent push from data science to include multiple layers to your visualizations. Most notably, presenting raw data as well as communicating variance in your data. These properties can be helpful in aiding interpretation, however there has been little formal testing about people’s ability to comprehend this type of information. Though there is evidence that people can extract information such as means, standard, deviations, and variability (see Kramer et. al, 2017; Padilla, 2018), people fail to do so consistently. Furthermore, there is little research looking at judgments across different graph types. Most studies have assessed accuracy with just one type of graph. Our goal in this study, was to test this explicitly using different styles of graphs and precise quantitative measures.\n",
        "\n",
        "*Uncertainty – Bayes Factors*\n",
        "\n",
        "Some recent visualization research has shifted focus from conveying risk and probability to capturing aspects of uncertainty (Bonneau et al., 2014; Brodlie et al., 2012; Joslyn & Savelli, 2021; Hullman et al., 2020; Spiegelhalter et al., 2011; Hoekstra et al., 2014). By uncertainty, we specifically mean confidence in an estimate due to not only variability, but also sample size.\n",
        "\n",
        "In this study participants are making judgments about Bayes Factors as a measure of uncertainty. The cognitive science community has seen a recent push for Bayesian estimation (Kruschke, 2013; Rouder et al. 2009) and although it has been found people can differentiate between effect size and confidence (Liljeholm and Cheng, 2009), there are many open questions about the relationship between peoples’ judgments on these types of questions and how accurately people can make judgments about uncertainty.\n"
      ]
    },
    {
      "cell_type": "markdown",
      "source": [
        "## Study Design \n",
        "\n",
        "The study used a 7 Effect Size (Cohen’s D of 0.025, 0.1, 0.2, 0.4, 0.8, 1.6, 3.2) x 5\n",
        "Sample size (16, 32, 64, 128, 256) x 3 Graph Style (Mean + 95 CI, Dot, Dot + Mean + 95 CI) fully crossed within subjects design. Thus, participants viewed 105 different graphs. We randomized the two groups in the graphs, so participants saw a mix of cases where Drug 1 was higher and lower than Drug 2. \n",
        "\n",
        "## Procedure\n",
        " Participants read a cover story about physicians testing whether a drug impacts the level of a chemical called CJ8 in people’s blood. Participants were then presented with three different styles of graphs in randomized blocks. At the start of each block, there were images breaking down the elements of the graph and introducing participants to what the elements mean (e.g., how to interpret confidence intervals).\n",
        "\n",
        "Participants then viewed 35 different graphs and were asked to make a Bayes Factor judgment about each graph. The BF judgments were asked as follows, and Figure 4 shows the response options. \n",
        "\n",
        ">“Consider the graph above, which shows the results of a study of two new drugs. \\\\\n",
        ">Imagine that a drug company decides to repeat the study from the graph above with the same drugs but with many thousands of participants.\n",
        ">What are the chances that the average level of CJ8 of the Drug 1 group will be higher, the same, or lower than the average of the Drug 2 group in this much larger study?\n",
        ">Below you can enter numbers between 1 and 998 and they must sum to 1,000.”\n",
        "\n",
        "\n",
        "![BFq.png](data:image/png;base64,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)\n",
        "\n",
        "Figure 4. Response options for the Bayes Factor question.\n",
        "\n",
        "The directional BF was extracted from two of the three different slider scale options. A directional BF compares “Drug 1 average will be higher” vs. “Drug 1 average will be lower”. Instead of the BF being an odds ratio, it will be converted to the probably scale 0-1 for analysis. The middle of the scale .5 means that there is no evidence that one group is higher than the other, whereas 0 and 1 mean that group 1 or group 2 are higher, respectively.\n",
        "\n",
        "We deliberately did not allow the BFs to include either 0 or 1 on the probability scale by requiring each response option to have at least 1 out of 1000. The reason is that if they could be 0 or 1 this would be considered as infinite evidence for one option. This would cause mathematical problems for some analyses and conceptually people should not consider any empirical evidence as infinitely strong.\n",
        "\n",
        "\n"
      ],
      "metadata": {
        "id": "dzCcw_EZklXE"
      }
    },
    {
      "cell_type": "markdown",
      "metadata": {
        "id": "66X264ZpDF58"
      },
      "source": [
        "\n",
        "## Variables\n",
        "\n",
        "Now let's connect this to some real data. Once again we'll be using the  **unrestricted_trimmed_1_7_2020_10_50_44.csv** file from the *Homework/hcp_data* folder in the class GitHub repository. \n",
        "\n",
        "​\n",
        "This data is a portion of the [Human Connectome Project database](http://www.humanconnectomeproject.org/). It provides measures of cognitive tasks and brain morphology measurements from 1206 participants. The full description of each variable is provided in the **HCP_S1200_DataDictionary_April_20_2018.csv** file in the *Homework/hcp_data* folder in the class GitHub repository. \n",
        "\n",
        "a) Use the `setwd` and `read.csv` functions to load data from the **unrestricted_trimmed_1_7_2020_10_50_44.csv** file. Then use the `tidyverse` tools make a new dataframe `d1` that only inclues the subject ID (`Subject`), Flanker Task performance (`Flanker_Unadj`), and total grey matter volume (`FS_Total_GM_Vol`) variables and remove all _NA_ values.\n",
        "\n",
        "Use the `head` function to look at the first few rows of each data frame. "
      ]
    },
    {
      "cell_type": "code",
      "execution_count": null,
      "metadata": {
        "id": "PZ0lngBjDF58"
      },
      "outputs": [],
      "source": [
        "# WRITE YOUR CODE HERE\n",
        "\n"
      ]
    },
    {
      "cell_type": "markdown",
      "metadata": {
        "id": "J3owDQ0U2Ewn"
      },
      "source": [
        "b)"
      ]
    },
    {
      "cell_type": "code",
      "execution_count": null,
      "metadata": {
        "id": "mWvD8shRDF5_"
      },
      "outputs": [],
      "source": [
        "# WRITE YOUR CODE HERE\n",
        "\n"
      ]
    },
    {
      "cell_type": "markdown",
      "metadata": {
        "id": "hxjPdPg8ewOI"
      },
      "source": [
        "\n",
        "## Hypotheses\n",
        "\n",
        "Use algebra to show how you can expand out $MSE(\\beta_0, \\beta_1)$ to get from i to ii below.\n",
        "\n",
        "> _i)_ $E[ (Y-(\\beta_0 + \\beta_1 X))^2]$\n",
        "\n",
        "> _ii)_ $E[Y^2] -2 \\beta_0E[Y]-2 \\beta_1 Cov[X,Y]-2 \\beta_1 E[X]E[Y]+ \\beta_0^2 +2 \\beta_0 \\beta_1 E[X]+\\beta_1^2 Var[X]+ \\beta_1^2 (E[X])^2$\n"
      ]
    },
    {
      "cell_type": "markdown",
      "metadata": {
        "id": "Wwusv3IUfG7Z"
      },
      "source": [
        "\n",
        "## Data Organization\n",
        "\n",
        "\n"
      ]
    },
    {
      "cell_type": "markdown",
      "metadata": {
        "id": "2bV12MCwfSLB"
      },
      "source": [
        "\n",
        "## Analyses\n",
        "\n",
        "\n",
        "**Part a:**\n",
        "\n",
        "**Summary**\n",
        "\n",
        "**Part b:**\n",
        "\n",
        "**Summary**\n",
        "\n",
        "**Part c:**\n",
        "\n",
        "**Summary**\n"
      ]
    },
    {
      "cell_type": "markdown",
      "metadata": {
        "id": "o_Gb5Me1gEjQ"
      },
      "source": [
        "\n",
        "## Conclusions  and Discussion\n",
        "\n",
        "\n"
      ]
    }
  ],
  "metadata": {
    "colab": {
      "provenance": []
    },
    "kernelspec": {
      "display_name": "R",
      "language": "R",
      "name": "ir"
    },
    "language_info": {
      "codemirror_mode": "r",
      "file_extension": ".r",
      "mimetype": "text/x-r-source",
      "name": "R",
      "pygments_lexer": "r",
      "version": "4.2.0"
    }
  },
  "nbformat": 4,
  "nbformat_minor": 0
}