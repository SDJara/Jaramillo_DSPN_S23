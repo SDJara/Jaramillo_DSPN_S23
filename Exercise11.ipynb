{
  "cells": [
    {
      "cell_type": "markdown",
      "metadata": {
        "id": "S5Fpqv6H_cZA"
      },
      "source": [
        "# Exercise 11: The Beauty of kNN\n",
        "\n",
        "In this exercise, you'll gain practice working with kNN. We'll use the [diamonds](https://ggplot2.tidyverse.org/reference/diamonds.html) dataset, which comes as part of `ggplot2`. This dataset provides information on the quality and price of 50,000 diamonds\n"
      ]
    },
    {
      "cell_type": "markdown",
      "metadata": {
        "id": "is-1Gkl6_cZC"
      },
      "source": [
        "## 1. Data, Plotting, and Train/Test Sets (2 pts)\n",
        "-----\n",
        "* Load the the `class` and `tidyverse` packages.\n",
        "* Assign the `diamonds` data set to a simpler name. Then, create a new variable `price_bin` that splits the `price` variable into a binary variable, where 1 indicates that the diamond costs greater than the mean price, and 0 indicates that the diamond costs less than the mean price. Set `price_bin` to be a factor. (*Hint: use the if_else() function*)\n",
        "* Select just the `carat`, `depth`, `table`, `x`, `y`, and your new `price_bin` variables\n",
        "* Print the first few lines of the data set\n",
        "* Print the dimensions of the data set\n"
      ]
    },
    {
      "cell_type": "code",
      "execution_count": 3,
      "metadata": {
        "id": "076b5Q2i_cZC",
        "scrolled": false,
        "outputId": "f2f72044-614e-4b57-f606-1c43ebb56d21",
        "colab": {
          "base_uri": "https://localhost:8080/",
          "height": 338
        }
      },
      "outputs": [
        {
          "output_type": "stream",
          "name": "stderr",
          "text": [
            "Loading required package: class\n",
            "\n"
          ]
        },
        {
          "output_type": "display_data",
          "data": {
            "text/html": [
              "<table class=\"dataframe\">\n",
              "<caption>A tibble: 6 × 6</caption>\n",
              "<thead>\n",
              "\t<tr><th scope=col>carat</th><th scope=col>depth</th><th scope=col>table</th><th scope=col>x</th><th scope=col>y</th><th scope=col>price_bin</th></tr>\n",
              "\t<tr><th scope=col>&lt;dbl&gt;</th><th scope=col>&lt;dbl&gt;</th><th scope=col>&lt;dbl&gt;</th><th scope=col>&lt;dbl&gt;</th><th scope=col>&lt;dbl&gt;</th><th scope=col>&lt;fct&gt;</th></tr>\n",
              "</thead>\n",
              "<tbody>\n",
              "\t<tr><td>0.23</td><td>61.5</td><td>55</td><td>3.95</td><td>3.98</td><td>0</td></tr>\n",
              "\t<tr><td>0.21</td><td>59.8</td><td>61</td><td>3.89</td><td>3.84</td><td>0</td></tr>\n",
              "\t<tr><td>0.23</td><td>56.9</td><td>65</td><td>4.05</td><td>4.07</td><td>0</td></tr>\n",
              "\t<tr><td>0.29</td><td>62.4</td><td>58</td><td>4.20</td><td>4.23</td><td>0</td></tr>\n",
              "\t<tr><td>0.31</td><td>63.3</td><td>58</td><td>4.34</td><td>4.35</td><td>0</td></tr>\n",
              "\t<tr><td>0.24</td><td>62.8</td><td>57</td><td>3.94</td><td>3.96</td><td>0</td></tr>\n",
              "</tbody>\n",
              "</table>\n"
            ],
            "text/markdown": "\nA tibble: 6 × 6\n\n| carat &lt;dbl&gt; | depth &lt;dbl&gt; | table &lt;dbl&gt; | x &lt;dbl&gt; | y &lt;dbl&gt; | price_bin &lt;fct&gt; |\n|---|---|---|---|---|---|\n| 0.23 | 61.5 | 55 | 3.95 | 3.98 | 0 |\n| 0.21 | 59.8 | 61 | 3.89 | 3.84 | 0 |\n| 0.23 | 56.9 | 65 | 4.05 | 4.07 | 0 |\n| 0.29 | 62.4 | 58 | 4.20 | 4.23 | 0 |\n| 0.31 | 63.3 | 58 | 4.34 | 4.35 | 0 |\n| 0.24 | 62.8 | 57 | 3.94 | 3.96 | 0 |\n\n",
            "text/latex": "A tibble: 6 × 6\n\\begin{tabular}{llllll}\n carat & depth & table & x & y & price\\_bin\\\\\n <dbl> & <dbl> & <dbl> & <dbl> & <dbl> & <fct>\\\\\n\\hline\n\t 0.23 & 61.5 & 55 & 3.95 & 3.98 & 0\\\\\n\t 0.21 & 59.8 & 61 & 3.89 & 3.84 & 0\\\\\n\t 0.23 & 56.9 & 65 & 4.05 & 4.07 & 0\\\\\n\t 0.29 & 62.4 & 58 & 4.20 & 4.23 & 0\\\\\n\t 0.31 & 63.3 & 58 & 4.34 & 4.35 & 0\\\\\n\t 0.24 & 62.8 & 57 & 3.94 & 3.96 & 0\\\\\n\\end{tabular}\n",
            "text/plain": [
              "  carat depth table x    y    price_bin\n",
              "1 0.23  61.5  55    3.95 3.98 0        \n",
              "2 0.21  59.8  61    3.89 3.84 0        \n",
              "3 0.23  56.9  65    4.05 4.07 0        \n",
              "4 0.29  62.4  58    4.20 4.23 0        \n",
              "5 0.31  63.3  58    4.34 4.35 0        \n",
              "6 0.24  62.8  57    3.94 3.96 0        "
            ]
          },
          "metadata": {}
        },
        {
          "output_type": "display_data",
          "data": {
            "text/html": [
              "<style>\n",
              ".list-inline {list-style: none; margin:0; padding: 0}\n",
              ".list-inline>li {display: inline-block}\n",
              ".list-inline>li:not(:last-child)::after {content: \"\\00b7\"; padding: 0 .5ex}\n",
              "</style>\n",
              "<ol class=list-inline><li>53940</li><li>6</li></ol>\n"
            ],
            "text/markdown": "1. 53940\n2. 6\n\n\n",
            "text/latex": "\\begin{enumerate*}\n\\item 53940\n\\item 6\n\\end{enumerate*}\n",
            "text/plain": [
              "[1] 53940     6"
            ]
          },
          "metadata": {}
        }
      ],
      "source": [
        "# INSERT CODE HERE\n",
        "require(class)\n",
        "require(tidyverse)\n",
        "\n",
        "df <- diamonds %>%\n",
        "  mutate(price_bin = as.factor(if_else(price > mean(price), 1, 0)))%>%\n",
        "  select(carat,depth,table,x,y,price_bin)\n",
        "\n",
        "head(df)\n",
        "dim(df)\n"
      ]
    },
    {
      "cell_type": "markdown",
      "metadata": {
        "id": "OE--UOxM_cZD"
      },
      "source": [
        "### Plot\n",
        "Create a scatterplot of the link between `carat` and `depth`, and use the `color` aesthetics mapping to differentiate between diamonds that cost above versus below the mean price. "
      ]
    },
    {
      "cell_type": "code",
      "execution_count": 4,
      "metadata": {
        "id": "SZQl5C9H_cZD",
        "outputId": "97c8b21e-dbbf-4969-f5e8-9536d030f2a3",
        "colab": {
          "base_uri": "https://localhost:8080/",
          "height": 437
        }
      },
      "outputs": [
        {
          "output_type": "display_data",
          "data": {
            "text/plain": [
              "plot without title"
            ],
            "image/png": "[encoded data removed]"
          },
          "metadata": {
            "image/png": {
              "width": 420,
              "height": 420
            }
          }
        }
      ],
      "source": [
        "# INSERT CODE HERE\n",
        "Plot <- ggplot(aes(x = carat, y = depth, color = price_bin), data = df)+\n",
        "  geom_point()\n",
        "\n",
        "Plot + scale_color_discrete(name = \"Price vs Mean Price\", labels = c(\"Greater than mean\", \"Less than mean\"))\n"
      ]
    },
    {
      "cell_type": "markdown",
      "metadata": {
        "id": "j-K6NEON_cZD"
      },
      "source": [
        "Based on the above scatterplot, how do you think kNN will perform using only these two variables to predict diabetes diagnosis? Which variable, carat or depth, gives us the most information about which price class the diamond will belong to?\n",
        "> * *Write response here*\n",
        ">\n",
        "I think that carat will matter more than depth for KNN classification. A lot of the dots for both groups are clustered around depth ~60. So that doesn't seem to drive the differences in greater than mean vs less than mean.\n"
      ]
    },
    {
      "cell_type": "markdown",
      "metadata": {
        "id": "wT7O-CHO_cZE"
      },
      "source": [
        "### Test vs Train\n",
        "\n",
        "Before we run KNN on these data, we need to set aside a portion of the observations as our test set. Below, randomly divide the data such that 30% are allotted to the `test` set and the rest are allotted to the `train` set. Print the first few lines of each set, and print the dimensions of each set to double check your division of the data."
      ]
    },
    {
      "cell_type": "code",
      "execution_count": 128,
      "metadata": {
        "id": "Oj3YcEP0_cZE",
        "outputId": "74a106eb-3436-497e-a153-b8b704341837",
        "colab": {
          "base_uri": "https://localhost:8080/",
          "height": 624
        }
      },
      "outputs": [
        {
          "output_type": "display_data",
          "data": {
            "text/html": [
              "<style>\n",
              ".list-inline {list-style: none; margin:0; padding: 0}\n",
              ".list-inline>li {display: inline-block}\n",
              ".list-inline>li:not(:last-child)::after {content: \"\\00b7\"; padding: 0 .5ex}\n",
              "</style>\n",
              "<ol class=list-inline><li>37758</li><li>8</li></ol>\n"
            ],
            "text/markdown": "1. 37758\n2. 8\n\n\n",
            "text/latex": "\\begin{enumerate*}\n\\item 37758\n\\item 8\n\\end{enumerate*}\n",
            "text/plain": [
              "[1] 37758     8"
            ]
          },
          "metadata": {}
        },
        {
          "output_type": "display_data",
          "data": {
            "text/html": [
              "37758"
            ],
            "text/markdown": "37758",
            "text/latex": "37758",
            "text/plain": [
              "[1] 37758"
            ]
          },
          "metadata": {}
        },
        {
          "output_type": "display_data",
          "data": {
            "text/html": [
              "<style>\n",
              ".list-inline {list-style: none; margin:0; padding: 0}\n",
              ".list-inline>li {display: inline-block}\n",
              ".list-inline>li:not(:last-child)::after {content: \"\\00b7\"; padding: 0 .5ex}\n",
              "</style>\n",
              "<ol class=list-inline><li>16182</li><li>8</li></ol>\n"
            ],
            "text/markdown": "1. 16182\n2. 8\n\n\n",
            "text/latex": "\\begin{enumerate*}\n\\item 16182\n\\item 8\n\\end{enumerate*}\n",
            "text/plain": [
              "[1] 16182     8"
            ]
          },
          "metadata": {}
        },
        {
          "output_type": "display_data",
          "data": {
            "text/html": [
              "16182"
            ],
            "text/markdown": "16182",
            "text/latex": "16182",
            "text/plain": [
              "[1] 16182"
            ]
          },
          "metadata": {}
        },
        {
          "output_type": "display_data",
          "data": {
            "text/html": [
              "<table class=\"dataframe\">\n",
              "<caption>A tibble: 6 × 8</caption>\n",
              "<thead>\n",
              "\t<tr><th scope=col>carat</th><th scope=col>depth</th><th scope=col>table</th><th scope=col>x</th><th scope=col>y</th><th scope=col>price_bin</th><th scope=col>ID</th><th scope=col>Intest</th></tr>\n",
              "\t<tr><th scope=col>&lt;dbl&gt;</th><th scope=col>&lt;dbl&gt;</th><th scope=col>&lt;dbl&gt;</th><th scope=col>&lt;dbl&gt;</th><th scope=col>&lt;dbl&gt;</th><th scope=col>&lt;fct&gt;</th><th scope=col>&lt;int&gt;</th><th scope=col>&lt;chr&gt;</th></tr>\n",
              "</thead>\n",
              "<tbody>\n",
              "\t<tr><td>0.23</td><td>61.5</td><td>55</td><td>3.95</td><td>3.98</td><td>0</td><td>1</td><td>No</td></tr>\n",
              "\t<tr><td>0.23</td><td>56.9</td><td>65</td><td>4.05</td><td>4.07</td><td>0</td><td>3</td><td>No</td></tr>\n",
              "\t<tr><td>0.29</td><td>62.4</td><td>58</td><td>4.20</td><td>4.23</td><td>0</td><td>4</td><td>No</td></tr>\n",
              "\t<tr><td>0.31</td><td>63.3</td><td>58</td><td>4.34</td><td>4.35</td><td>0</td><td>5</td><td>No</td></tr>\n",
              "\t<tr><td>0.24</td><td>62.8</td><td>57</td><td>3.94</td><td>3.96</td><td>0</td><td>6</td><td>No</td></tr>\n",
              "\t<tr><td>0.24</td><td>62.3</td><td>57</td><td>3.95</td><td>3.98</td><td>0</td><td>7</td><td>No</td></tr>\n",
              "</tbody>\n",
              "</table>\n"
            ],
            "text/markdown": "\nA tibble: 6 × 8\n\n| carat &lt;dbl&gt; | depth &lt;dbl&gt; | table &lt;dbl&gt; | x &lt;dbl&gt; | y &lt;dbl&gt; | price_bin &lt;fct&gt; | ID &lt;int&gt; | Intest &lt;chr&gt; |\n|---|---|---|---|---|---|---|---|\n| 0.23 | 61.5 | 55 | 3.95 | 3.98 | 0 | 1 | No |\n| 0.23 | 56.9 | 65 | 4.05 | 4.07 | 0 | 3 | No |\n| 0.29 | 62.4 | 58 | 4.20 | 4.23 | 0 | 4 | No |\n| 0.31 | 63.3 | 58 | 4.34 | 4.35 | 0 | 5 | No |\n| 0.24 | 62.8 | 57 | 3.94 | 3.96 | 0 | 6 | No |\n| 0.24 | 62.3 | 57 | 3.95 | 3.98 | 0 | 7 | No |\n\n",
            "text/latex": "A tibble: 6 × 8\n\\begin{tabular}{llllllll}\n carat & depth & table & x & y & price\\_bin & ID & Intest\\\\\n <dbl> & <dbl> & <dbl> & <dbl> & <dbl> & <fct> & <int> & <chr>\\\\\n\\hline\n\t 0.23 & 61.5 & 55 & 3.95 & 3.98 & 0 & 1 & No\\\\\n\t 0.23 & 56.9 & 65 & 4.05 & 4.07 & 0 & 3 & No\\\\\n\t 0.29 & 62.4 & 58 & 4.20 & 4.23 & 0 & 4 & No\\\\\n\t 0.31 & 63.3 & 58 & 4.34 & 4.35 & 0 & 5 & No\\\\\n\t 0.24 & 62.8 & 57 & 3.94 & 3.96 & 0 & 6 & No\\\\\n\t 0.24 & 62.3 & 57 & 3.95 & 3.98 & 0 & 7 & No\\\\\n\\end{tabular}\n",
            "text/plain": [
              "  carat depth table x    y    price_bin ID Intest\n",
              "1 0.23  61.5  55    3.95 3.98 0         1  No    \n",
              "2 0.23  56.9  65    4.05 4.07 0         3  No    \n",
              "3 0.29  62.4  58    4.20 4.23 0         4  No    \n",
              "4 0.31  63.3  58    4.34 4.35 0         5  No    \n",
              "5 0.24  62.8  57    3.94 3.96 0         6  No    \n",
              "6 0.24  62.3  57    3.95 3.98 0         7  No    "
            ]
          },
          "metadata": {}
        },
        {
          "output_type": "display_data",
          "data": {
            "text/html": [
              "<table class=\"dataframe\">\n",
              "<caption>A tibble: 6 × 8</caption>\n",
              "<thead>\n",
              "\t<tr><th scope=col>carat</th><th scope=col>depth</th><th scope=col>table</th><th scope=col>x</th><th scope=col>y</th><th scope=col>price_bin</th><th scope=col>ID</th><th scope=col>Intest</th></tr>\n",
              "\t<tr><th scope=col>&lt;dbl&gt;</th><th scope=col>&lt;dbl&gt;</th><th scope=col>&lt;dbl&gt;</th><th scope=col>&lt;dbl&gt;</th><th scope=col>&lt;dbl&gt;</th><th scope=col>&lt;fct&gt;</th><th scope=col>&lt;int&gt;</th><th scope=col>&lt;chr&gt;</th></tr>\n",
              "</thead>\n",
              "<tbody>\n",
              "\t<tr><td>1.22</td><td>62.3</td><td>56.0</td><td>6.81</td><td>6.84</td><td>1</td><td>21968</td><td>Yes</td></tr>\n",
              "\t<tr><td>1.57</td><td>62.3</td><td>56.0</td><td>7.48</td><td>7.41</td><td>1</td><td>25961</td><td>Yes</td></tr>\n",
              "\t<tr><td>1.11</td><td>62.4</td><td>57.7</td><td>6.57</td><td>6.64</td><td>1</td><td> 7923</td><td>Yes</td></tr>\n",
              "\t<tr><td>0.42</td><td>60.6</td><td>57.0</td><td>4.82</td><td>4.85</td><td>0</td><td>40492</td><td>Yes</td></tr>\n",
              "\t<tr><td>0.32</td><td>62.6</td><td>55.0</td><td>4.39</td><td>4.36</td><td>0</td><td>31217</td><td>Yes</td></tr>\n",
              "\t<tr><td>0.90</td><td>62.7</td><td>58.0</td><td>6.06</td><td>6.15</td><td>1</td><td> 9757</td><td>Yes</td></tr>\n",
              "</tbody>\n",
              "</table>\n"
            ],
            "text/markdown": "\nA tibble: 6 × 8\n\n| carat &lt;dbl&gt; | depth &lt;dbl&gt; | table &lt;dbl&gt; | x &lt;dbl&gt; | y &lt;dbl&gt; | price_bin &lt;fct&gt; | ID &lt;int&gt; | Intest &lt;chr&gt; |\n|---|---|---|---|---|---|---|---|\n| 1.22 | 62.3 | 56.0 | 6.81 | 6.84 | 1 | 21968 | Yes |\n| 1.57 | 62.3 | 56.0 | 7.48 | 7.41 | 1 | 25961 | Yes |\n| 1.11 | 62.4 | 57.7 | 6.57 | 6.64 | 1 |  7923 | Yes |\n| 0.42 | 60.6 | 57.0 | 4.82 | 4.85 | 0 | 40492 | Yes |\n| 0.32 | 62.6 | 55.0 | 4.39 | 4.36 | 0 | 31217 | Yes |\n| 0.90 | 62.7 | 58.0 | 6.06 | 6.15 | 1 |  9757 | Yes |\n\n",
            "text/latex": "A tibble: 6 × 8\n\\begin{tabular}{llllllll}\n carat & depth & table & x & y & price\\_bin & ID & Intest\\\\\n <dbl> & <dbl> & <dbl> & <dbl> & <dbl> & <fct> & <int> & <chr>\\\\\n\\hline\n\t 1.22 & 62.3 & 56.0 & 6.81 & 6.84 & 1 & 21968 & Yes\\\\\n\t 1.57 & 62.3 & 56.0 & 7.48 & 7.41 & 1 & 25961 & Yes\\\\\n\t 1.11 & 62.4 & 57.7 & 6.57 & 6.64 & 1 &  7923 & Yes\\\\\n\t 0.42 & 60.6 & 57.0 & 4.82 & 4.85 & 0 & 40492 & Yes\\\\\n\t 0.32 & 62.6 & 55.0 & 4.39 & 4.36 & 0 & 31217 & Yes\\\\\n\t 0.90 & 62.7 & 58.0 & 6.06 & 6.15 & 1 &  9757 & Yes\\\\\n\\end{tabular}\n",
            "text/plain": [
              "  carat depth table x    y    price_bin ID    Intest\n",
              "1 1.22  62.3  56.0  6.81 6.84 1         21968 Yes   \n",
              "2 1.57  62.3  56.0  7.48 7.41 1         25961 Yes   \n",
              "3 1.11  62.4  57.7  6.57 6.64 1          7923 Yes   \n",
              "4 0.42  60.6  57.0  4.82 4.85 0         40492 Yes   \n",
              "5 0.32  62.6  55.0  4.39 4.36 0         31217 Yes   \n",
              "6 0.90  62.7  58.0  6.06 6.15 1          9757 Yes   "
            ]
          },
          "metadata": {}
        }
      ],
      "source": [
        "# INSERT CODE HERE\n",
        "require(tidyverse)\n",
        "set.seed(2023)\n",
        "\n",
        "df <- df %>%\n",
        "  mutate(ID = 1:nrow(df)) %>%\n",
        "  mutate(Intest = \"No\")\n",
        "\n",
        "\n",
        "test <- df %>%\n",
        "  sample_frac(.3) %>%\n",
        "  mutate(Intest = \"Yes\")\n",
        "\n",
        "\n",
        "train <- anti_join(df, test, by = \"ID\")\n",
        "\n",
        "\n",
        "dim(train)\n",
        "53940*.7\n",
        "\n",
        "dim(test)\n",
        "53940*.3 #matches!\n",
        "\n",
        "head(train)\n",
        "head(test)"
      ]
    },
    {
      "cell_type": "markdown",
      "metadata": {
        "id": "lFtmRUBN_cZF"
      },
      "source": [
        "## 2: KNN (3 points)\n",
        "----\n",
        "Now, use the `knn()` function from the `class` library to predict `price_bin` from the `carat` and `depth`. Set `k = 3`. \n",
        "\n",
        "*Hint: Review the format required for the arguments of knn()*"
      ]
    },
    {
      "cell_type": "code",
      "execution_count": 129,
      "metadata": {
        "id": "9pcL8AM9_cZG",
        "scrolled": true,
        "outputId": "479c3aa8-7ae1-4248-b3b8-23a1bccb81ce",
        "colab": {
          "base_uri": "https://localhost:8080/",
          "height": 52
        }
      },
      "outputs": [
        {
          "output_type": "display_data",
          "data": {
            "text/html": [
              "<style>\n",
              ".list-inline {list-style: none; margin:0; padding: 0}\n",
              ".list-inline>li {display: inline-block}\n",
              ".list-inline>li:not(:last-child)::after {content: \"\\00b7\"; padding: 0 .5ex}\n",
              "</style>\n",
              "<ol class=list-inline><li>1</li><li>1</li><li>1</li><li>0</li><li>0</li><li>1</li><li>1</li><li>0</li><li>0</li><li>0</li></ol>\n",
              "\n",
              "<details>\n",
              "\t<summary style=display:list-item;cursor:pointer>\n",
              "\t\t<strong>Levels</strong>:\n",
              "\t</summary>\n",
              "\t<style>\n",
              "\t.list-inline {list-style: none; margin:0; padding: 0}\n",
              "\t.list-inline>li {display: inline-block}\n",
              "\t.list-inline>li:not(:last-child)::after {content: \"\\00b7\"; padding: 0 .5ex}\n",
              "\t</style>\n",
              "\t<ol class=list-inline><li>'0'</li><li>'1'</li></ol>\n",
              "</details>"
            ],
            "text/markdown": "1. 1\n2. 1\n3. 1\n4. 0\n5. 0\n6. 1\n7. 1\n8. 0\n9. 0\n10. 0\n\n\n\n**Levels**: 1. '0'\n2. '1'\n\n\n",
            "text/latex": "\\begin{enumerate*}\n\\item 1\n\\item 1\n\\item 1\n\\item 0\n\\item 0\n\\item 1\n\\item 1\n\\item 0\n\\item 0\n\\item 0\n\\end{enumerate*}\n\n\\emph{Levels}: \\begin{enumerate*}\n\\item '0'\n\\item '1'\n\\end{enumerate*}\n",
            "text/plain": [
              " [1] 1 1 1 0 0 1 1 0 0 0\n",
              "Levels: 0 1"
            ]
          },
          "metadata": {}
        }
      ],
      "source": [
        "set.seed(2023)\n",
        "# INSERT CODE HERE\n",
        "library(class)\n",
        "\n",
        "\n",
        "#training data pulls the \"not test\" rows\n",
        "train.preds <- cbind(train$carat, train$depth)\n",
        "train.spec <- train$price_bin\n",
        "#testing data pulls the test rows\n",
        "test.preds <- cbind(test$carat, test$depth)\n",
        "\n",
        "#run knn\n",
        "test.spec.knn <- knn(train.preds, test.preds, train.spec, k = 3)\n",
        "\n",
        "#print first 10 test specifications\n",
        "test.spec.knn[1:10]"
      ]
    },
    {
      "cell_type": "markdown",
      "metadata": {
        "id": "RXnTKbdi_cZG"
      },
      "source": [
        "Now, output a confusion matrix and calculate the test error to evaluate model performance. "
      ]
    },
    {
      "cell_type": "code",
      "execution_count": 130,
      "metadata": {
        "id": "qhwTYq9B_cZH",
        "outputId": "ce19fb91-f114-44e1-b501-877854835dc1",
        "colab": {
          "base_uri": "https://localhost:8080/",
          "height": 121
        }
      },
      "outputs": [
        {
          "output_type": "display_data",
          "data": {
            "text/plain": [
              "         actual\n",
              "predicted    0    1\n",
              "        0 9707  316\n",
              "        1  539 5620"
            ]
          },
          "metadata": {}
        },
        {
          "output_type": "stream",
          "name": "stdout",
          "text": [
            "[1] \"---\"\n",
            "[1] \"Accuracy: 0.947163515016685\"\n"
          ]
        }
      ],
      "source": [
        "# INSERT CODE HERE\n",
        "confusion_df <- data.frame(predicted = test.spec.knn,actual = test$price_bin)\n",
        "table(confusion_df)\n",
        "print(\"---\")\n",
        "print(paste(\"Accuracy:\",mean(confusion_df$predicted == confusion_df$actual)))"
      ]
    },
    {
      "cell_type": "markdown",
      "metadata": {
        "id": "mOQSLQ37_cZK"
      },
      "source": [
        "How did your model perform?\n",
        "> * Write your response here\n",
        ">\n",
        "> * We have high accuracy at ~95% however 539 incorrect items were labeled as correct. 316 correct items were labeled as incorrect.\n"
      ]
    },
    {
      "cell_type": "markdown",
      "metadata": {
        "id": "p0lvEh3F_cZL"
      },
      "source": [
        "Let's try to improve our model by adding all of the other variables in our data set as predictors. Rerun your `knn()` below, keeping `k = 3`. Again, output a confusion matrix and error rate for your updated model fit."
      ]
    },
    {
      "cell_type": "code",
      "execution_count": 131,
      "metadata": {
        "id": "KWsncoDP_cZL",
        "outputId": "fbcaa563-8b2f-495b-e57b-4e8278b44a2a",
        "colab": {
          "base_uri": "https://localhost:8080/",
          "height": 156
        }
      },
      "outputs": [
        {
          "output_type": "display_data",
          "data": {
            "text/html": [
              "<style>\n",
              ".list-inline {list-style: none; margin:0; padding: 0}\n",
              ".list-inline>li {display: inline-block}\n",
              ".list-inline>li:not(:last-child)::after {content: \"\\00b7\"; padding: 0 .5ex}\n",
              "</style>\n",
              "<ol class=list-inline><li>1</li><li>1</li><li>1</li><li>0</li><li>0</li><li>1</li><li>1</li><li>0</li><li>0</li><li>0</li></ol>\n",
              "\n",
              "<details>\n",
              "\t<summary style=display:list-item;cursor:pointer>\n",
              "\t\t<strong>Levels</strong>:\n",
              "\t</summary>\n",
              "\t<style>\n",
              "\t.list-inline {list-style: none; margin:0; padding: 0}\n",
              "\t.list-inline>li {display: inline-block}\n",
              "\t.list-inline>li:not(:last-child)::after {content: \"\\00b7\"; padding: 0 .5ex}\n",
              "\t</style>\n",
              "\t<ol class=list-inline><li>'0'</li><li>'1'</li></ol>\n",
              "</details>"
            ],
            "text/markdown": "1. 1\n2. 1\n3. 1\n4. 0\n5. 0\n6. 1\n7. 1\n8. 0\n9. 0\n10. 0\n\n\n\n**Levels**: 1. '0'\n2. '1'\n\n\n",
            "text/latex": "\\begin{enumerate*}\n\\item 1\n\\item 1\n\\item 1\n\\item 0\n\\item 0\n\\item 1\n\\item 1\n\\item 0\n\\item 0\n\\item 0\n\\end{enumerate*}\n\n\\emph{Levels}: \\begin{enumerate*}\n\\item '0'\n\\item '1'\n\\end{enumerate*}\n",
            "text/plain": [
              " [1] 1 1 1 0 0 1 1 0 0 0\n",
              "Levels: 0 1"
            ]
          },
          "metadata": {}
        },
        {
          "output_type": "display_data",
          "data": {
            "text/plain": [
              "         actual\n",
              "predicted    0    1\n",
              "        0 9728  391\n",
              "        1  518 5545"
            ]
          },
          "metadata": {}
        },
        {
          "output_type": "stream",
          "name": "stdout",
          "text": [
            "[1] \"---\"\n",
            "[1] \"Accuracy: 0.943826473859844\"\n"
          ]
        }
      ],
      "source": [
        "set.seed(2023)\n",
        "# INSERT CODE HERE\n",
        "\n",
        "#training data pulls the \"not test\" rows\n",
        "train.preds <- cbind(train$carat, train$depth, train$table, train$x, train$y)\n",
        "train.spec <- train$price_bin\n",
        "#testing data pulls the test rows\n",
        "test.preds <- cbind(test$carat, test$depth, test$table, test$x, test$y)\n",
        "\n",
        "#run knn\n",
        "test.spec.knn <- knn(train.preds, test.preds, train.spec, k = 3)\n",
        "\n",
        "#print first 10 test specifications\n",
        "test.spec.knn[1:10]\n",
        "\n",
        "# INSERT CODE HERE\n",
        "confusion_df <- data.frame(predicted = test.spec.knn,actual = test$price_bin)\n",
        "table(confusion_df)\n",
        "print(\"---\")\n",
        "print(paste(\"Accuracy:\",mean(confusion_df$predicted == confusion_df$actual)))"
      ]
    },
    {
      "cell_type": "markdown",
      "metadata": {
        "id": "t2Dyykaf_cZM"
      },
      "source": [
        "Did your model predictions improve?\n",
        "> * Write your response here\n",
        ">\n",
        "> * The differences are pretty nomimal so I'd conclude adding variables did not help the model.\n"
      ]
    },
    {
      "cell_type": "markdown",
      "metadata": {
        "id": "WYHprC4m_cZN"
      },
      "source": [
        "# 3: for loop (3 points)\n",
        "----\n",
        "\n",
        "So adding additional predictors didn't shift our error much. Let's see if adjusting `k` has a larger impact on model accuracy. \n",
        "\n",
        "Using your initial model above with just `carat` and `depth`, run a `for loop` that runs the same model 30 times, for `k = 1:30`. \n",
        "\n",
        "Output a data frame that has `k` and the overall `error` as columns.\n",
        "\n",
        "The structure of the output data frame and `for loop` are provided for you below. Note that your loop will take a minute or two to run because there are so many observations in the dataset. It may be helpful while you are writing and testing your loop to run it on a subset of the data with only a handful of rows."
      ]
    },
    {
      "cell_type": "code",
      "execution_count": 132,
      "metadata": {
        "id": "D-GAvxGH_cZN",
        "scrolled": false,
        "outputId": "0c39398d-0132-4c45-a0c9-e5211fa29220",
        "colab": {
          "base_uri": "https://localhost:8080/",
          "height": 286
        }
      },
      "outputs": [
        {
          "output_type": "display_data",
          "data": {
            "text/html": [
              "<table class=\"dataframe\">\n",
              "<caption>A data.frame: 6 × 2</caption>\n",
              "<thead>\n",
              "\t<tr><th></th><th scope=col>k</th><th scope=col>error</th></tr>\n",
              "\t<tr><th></th><th scope=col>&lt;int&gt;</th><th scope=col>&lt;lgl&gt;</th></tr>\n",
              "</thead>\n",
              "<tbody>\n",
              "\t<tr><th scope=row>1</th><td>1</td><td>NA</td></tr>\n",
              "\t<tr><th scope=row>2</th><td>2</td><td>NA</td></tr>\n",
              "\t<tr><th scope=row>3</th><td>3</td><td>NA</td></tr>\n",
              "\t<tr><th scope=row>4</th><td>4</td><td>NA</td></tr>\n",
              "\t<tr><th scope=row>5</th><td>5</td><td>NA</td></tr>\n",
              "\t<tr><th scope=row>6</th><td>6</td><td>NA</td></tr>\n",
              "</tbody>\n",
              "</table>\n"
            ],
            "text/markdown": "\nA data.frame: 6 × 2\n\n| <!--/--> | k &lt;int&gt; | error &lt;lgl&gt; |\n|---|---|---|\n| 1 | 1 | NA |\n| 2 | 2 | NA |\n| 3 | 3 | NA |\n| 4 | 4 | NA |\n| 5 | 5 | NA |\n| 6 | 6 | NA |\n\n",
            "text/latex": "A data.frame: 6 × 2\n\\begin{tabular}{r|ll}\n  & k & error\\\\\n  & <int> & <lgl>\\\\\n\\hline\n\t1 & 1 & NA\\\\\n\t2 & 2 & NA\\\\\n\t3 & 3 & NA\\\\\n\t4 & 4 & NA\\\\\n\t5 & 5 & NA\\\\\n\t6 & 6 & NA\\\\\n\\end{tabular}\n",
            "text/plain": [
              "  k error\n",
              "1 1 NA   \n",
              "2 2 NA   \n",
              "3 3 NA   \n",
              "4 4 NA   \n",
              "5 5 NA   \n",
              "6 6 NA   "
            ]
          },
          "metadata": {}
        }
      ],
      "source": [
        "# this is provided\n",
        "# setting up empty table to store for loop output\n",
        "output  <- data.frame(k = seq(1:30),\n",
        "                     error = rep(NA, 30))\n",
        "head(output)"
      ]
    },
    {
      "cell_type": "code",
      "execution_count": 133,
      "metadata": {
        "id": "we6mzfCJ_cZN",
        "outputId": "92a9e92d-02a0-40ca-94b0-52c584b1184e",
        "colab": {
          "base_uri": "https://localhost:8080/",
          "height": 286
        }
      },
      "outputs": [
        {
          "output_type": "display_data",
          "data": {
            "text/html": [
              "<table class=\"dataframe\">\n",
              "<caption>A data.frame: 6 × 2</caption>\n",
              "<thead>\n",
              "\t<tr><th></th><th scope=col>k</th><th scope=col>error</th></tr>\n",
              "\t<tr><th></th><th scope=col>&lt;int&gt;</th><th scope=col>&lt;dbl&gt;</th></tr>\n",
              "</thead>\n",
              "<tbody>\n",
              "\t<tr><th scope=row>1</th><td>1</td><td>0.06488691</td></tr>\n",
              "\t<tr><th scope=row>2</th><td>2</td><td>0.06488691</td></tr>\n",
              "\t<tr><th scope=row>3</th><td>3</td><td>0.05617353</td></tr>\n",
              "\t<tr><th scope=row>4</th><td>4</td><td>0.05543196</td></tr>\n",
              "\t<tr><th scope=row>5</th><td>5</td><td>0.05308367</td></tr>\n",
              "\t<tr><th scope=row>6</th><td>6</td><td>0.05376344</td></tr>\n",
              "</tbody>\n",
              "</table>\n"
            ],
            "text/markdown": "\nA data.frame: 6 × 2\n\n| <!--/--> | k &lt;int&gt; | error &lt;dbl&gt; |\n|---|---|---|\n| 1 | 1 | 0.06488691 |\n| 2 | 2 | 0.06488691 |\n| 3 | 3 | 0.05617353 |\n| 4 | 4 | 0.05543196 |\n| 5 | 5 | 0.05308367 |\n| 6 | 6 | 0.05376344 |\n\n",
            "text/latex": "A data.frame: 6 × 2\n\\begin{tabular}{r|ll}\n  & k & error\\\\\n  & <int> & <dbl>\\\\\n\\hline\n\t1 & 1 & 0.06488691\\\\\n\t2 & 2 & 0.06488691\\\\\n\t3 & 3 & 0.05617353\\\\\n\t4 & 4 & 0.05543196\\\\\n\t5 & 5 & 0.05308367\\\\\n\t6 & 6 & 0.05376344\\\\\n\\end{tabular}\n",
            "text/plain": [
              "  k error     \n",
              "1 1 0.06488691\n",
              "2 2 0.06488691\n",
              "3 3 0.05617353\n",
              "4 4 0.05543196\n",
              "5 5 0.05308367\n",
              "6 6 0.05376344"
            ]
          },
          "metadata": {}
        }
      ],
      "source": [
        "for (k in seq(1:30)) {\n",
        "    # your knn function here\n",
        "    knn_fits  <- knn(train.preds, test.preds, train.spec, k = k)\n",
        "    \n",
        "    #overall error\n",
        "    # data frame of test predictions versus actual test\n",
        "    conf_df <- data.frame(predicted = knn_fits,actual = test$price_bin)\n",
        "\n",
        "   #calculate error from conf_df and add to your output dataframe\n",
        "    \n",
        "\n",
        "    output$error[k]  <- 1 - mean(conf_df$predicted == conf_df$actual)\n",
        "     \n",
        "}\n",
        "head(output)\n",
        "\n",
        "\n",
        "\n"
      ]
    },
    {
      "cell_type": "markdown",
      "metadata": {
        "id": "Ofk0jafy_cZN"
      },
      "source": [
        "Create a line plot of your `output` object using `ggplot`. Add a (non-linear) `geom_smooth` layer. "
      ]
    },
    {
      "cell_type": "code",
      "execution_count": 134,
      "metadata": {
        "id": "9Oia_P98_cZN",
        "scrolled": false,
        "outputId": "58237442-5a52-4aa2-94a7-6bf6eddecc04",
        "colab": {
          "base_uri": "https://localhost:8080/",
          "height": 454
        }
      },
      "outputs": [
        {
          "output_type": "stream",
          "name": "stderr",
          "text": [
            "\u001b[1m\u001b[22m`geom_smooth()` using formula = 'y ~ x'\n"
          ]
        },
        {
          "output_type": "display_data",
          "data": {
            "text/plain": [
              "plot without title"
            ],
            "image/png": "[encoded data removed]"
          },
          "metadata": {
            "image/png": {
              "width": 420,
              "height": 420
            }
          }
        }
      ],
      "source": [
        "# INSERT CODE HERE\n",
        "Plot <- ggplot(aes(y=error, x = k), data = output) +\n",
        "  geom_line()+\n",
        "  geom_smooth(method = \"loess\")\n",
        "Plot"
      ]
    },
    {
      "cell_type": "markdown",
      "metadata": {
        "id": "EG2gQhU0_cZO"
      },
      "source": [
        "Interpret your plot. What would you select as the best value of `k`? How much does this improve your test error?\n",
        "> * *Write your response here*\n",
        ">\n",
        "> * I would choose k of 8 or 9 here because that's where the slope of the error begins to change. Essentially we want a k value that decreases error the most without overcomplicating the model. For simplicity, let's go with k = 9.\n"
      ]
    },
    {
      "cell_type": "markdown",
      "metadata": {
        "id": "R5GYp8mt_cZO"
      },
      "source": [
        "# 4: Standardizing predictors (2)\n",
        "-----\n",
        "\n",
        "Because knn is based on distances between points, it is very sensitive to the scale of your variables. Looking at our predictor variables, we can see that `carat` and `depth` are orders of magnitude different in terms of scales. Maybe we can improve our fit even more by addressing this!\n",
        "\n",
        "Below, use the `scale()` function to standardize your predictors. (Note that you don't need to standardize `price_bin`.)\n",
        "\n",
        "Then, run your model a final time with your standardized predictors (just `carat` and `depth` still). Set `k` to the optimal value you determined in your plot above. Output the confusion matrix and error rate again."
      ]
    },
    {
      "cell_type": "code",
      "execution_count": 135,
      "metadata": {
        "id": "DVAfP_iB_cZO",
        "outputId": "210c030c-fa09-4bdd-98cd-b2b64bca08f5",
        "colab": {
          "base_uri": "https://localhost:8080/",
          "height": 697
        }
      },
      "outputs": [
        {
          "output_type": "display_data",
          "data": {
            "text/html": [
              "<table class=\"dataframe\">\n",
              "<caption>A tibble: 6 × 8</caption>\n",
              "<thead>\n",
              "\t<tr><th scope=col>carat</th><th scope=col>depth</th><th scope=col>table</th><th scope=col>x</th><th scope=col>y</th><th scope=col>price_bin</th><th scope=col>ID</th><th scope=col>Intest</th></tr>\n",
              "\t<tr><th scope=col>&lt;dbl&gt;</th><th scope=col>&lt;dbl&gt;</th><th scope=col>&lt;dbl&gt;</th><th scope=col>&lt;dbl&gt;</th><th scope=col>&lt;dbl&gt;</th><th scope=col>&lt;fct&gt;</th><th scope=col>&lt;int&gt;</th><th scope=col>&lt;chr&gt;</th></tr>\n",
              "</thead>\n",
              "<tbody>\n",
              "\t<tr><td>0.23</td><td>61.5</td><td>55</td><td>3.95</td><td>3.98</td><td>0</td><td>1</td><td>No</td></tr>\n",
              "\t<tr><td>0.21</td><td>59.8</td><td>61</td><td>3.89</td><td>3.84</td><td>0</td><td>2</td><td>No</td></tr>\n",
              "\t<tr><td>0.23</td><td>56.9</td><td>65</td><td>4.05</td><td>4.07</td><td>0</td><td>3</td><td>No</td></tr>\n",
              "\t<tr><td>0.29</td><td>62.4</td><td>58</td><td>4.20</td><td>4.23</td><td>0</td><td>4</td><td>No</td></tr>\n",
              "\t<tr><td>0.31</td><td>63.3</td><td>58</td><td>4.34</td><td>4.35</td><td>0</td><td>5</td><td>No</td></tr>\n",
              "\t<tr><td>0.24</td><td>62.8</td><td>57</td><td>3.94</td><td>3.96</td><td>0</td><td>6</td><td>No</td></tr>\n",
              "</tbody>\n",
              "</table>\n"
            ],
            "text/markdown": "\nA tibble: 6 × 8\n\n| carat &lt;dbl&gt; | depth &lt;dbl&gt; | table &lt;dbl&gt; | x &lt;dbl&gt; | y &lt;dbl&gt; | price_bin &lt;fct&gt; | ID &lt;int&gt; | Intest &lt;chr&gt; |\n|---|---|---|---|---|---|---|---|\n| 0.23 | 61.5 | 55 | 3.95 | 3.98 | 0 | 1 | No |\n| 0.21 | 59.8 | 61 | 3.89 | 3.84 | 0 | 2 | No |\n| 0.23 | 56.9 | 65 | 4.05 | 4.07 | 0 | 3 | No |\n| 0.29 | 62.4 | 58 | 4.20 | 4.23 | 0 | 4 | No |\n| 0.31 | 63.3 | 58 | 4.34 | 4.35 | 0 | 5 | No |\n| 0.24 | 62.8 | 57 | 3.94 | 3.96 | 0 | 6 | No |\n\n",
            "text/latex": "A tibble: 6 × 8\n\\begin{tabular}{llllllll}\n carat & depth & table & x & y & price\\_bin & ID & Intest\\\\\n <dbl> & <dbl> & <dbl> & <dbl> & <dbl> & <fct> & <int> & <chr>\\\\\n\\hline\n\t 0.23 & 61.5 & 55 & 3.95 & 3.98 & 0 & 1 & No\\\\\n\t 0.21 & 59.8 & 61 & 3.89 & 3.84 & 0 & 2 & No\\\\\n\t 0.23 & 56.9 & 65 & 4.05 & 4.07 & 0 & 3 & No\\\\\n\t 0.29 & 62.4 & 58 & 4.20 & 4.23 & 0 & 4 & No\\\\\n\t 0.31 & 63.3 & 58 & 4.34 & 4.35 & 0 & 5 & No\\\\\n\t 0.24 & 62.8 & 57 & 3.94 & 3.96 & 0 & 6 & No\\\\\n\\end{tabular}\n",
            "text/plain": [
              "  carat depth table x    y    price_bin ID Intest\n",
              "1 0.23  61.5  55    3.95 3.98 0         1  No    \n",
              "2 0.21  59.8  61    3.89 3.84 0         2  No    \n",
              "3 0.23  56.9  65    4.05 4.07 0         3  No    \n",
              "4 0.29  62.4  58    4.20 4.23 0         4  No    \n",
              "5 0.31  63.3  58    4.34 4.35 0         5  No    \n",
              "6 0.24  62.8  57    3.94 3.96 0         6  No    "
            ]
          },
          "metadata": {}
        },
        {
          "output_type": "display_data",
          "data": {
            "text/html": [
              "<table class=\"dataframe\">\n",
              "<caption>A matrix: 6 × 5 of type dbl</caption>\n",
              "<thead>\n",
              "\t<tr><th scope=col>carat</th><th scope=col>depth</th><th scope=col>table</th><th scope=col>x</th><th scope=col>y</th></tr>\n",
              "</thead>\n",
              "<tbody>\n",
              "\t<tr><td>-1.198157</td><td>-0.1740899</td><td>-1.0996618</td><td>-1.587823</td><td>-1.536181</td></tr>\n",
              "\t<tr><td>-1.240350</td><td>-1.3607259</td><td> 1.5855140</td><td>-1.641310</td><td>-1.658759</td></tr>\n",
              "\t<tr><td>-1.198157</td><td>-3.3849872</td><td> 3.3756312</td><td>-1.498677</td><td>-1.457382</td></tr>\n",
              "\t<tr><td>-1.071577</td><td> 0.4541292</td><td> 0.2429261</td><td>-1.364959</td><td>-1.317293</td></tr>\n",
              "\t<tr><td>-1.029384</td><td> 1.0823482</td><td> 0.2429261</td><td>-1.240155</td><td>-1.212227</td></tr>\n",
              "\t<tr><td>-1.177060</td><td> 0.7333376</td><td>-0.2046032</td><td>-1.596737</td><td>-1.553692</td></tr>\n",
              "</tbody>\n",
              "</table>\n"
            ],
            "text/markdown": "\nA matrix: 6 × 5 of type dbl\n\n| carat | depth | table | x | y |\n|---|---|---|---|---|\n| -1.198157 | -0.1740899 | -1.0996618 | -1.587823 | -1.536181 |\n| -1.240350 | -1.3607259 |  1.5855140 | -1.641310 | -1.658759 |\n| -1.198157 | -3.3849872 |  3.3756312 | -1.498677 | -1.457382 |\n| -1.071577 |  0.4541292 |  0.2429261 | -1.364959 | -1.317293 |\n| -1.029384 |  1.0823482 |  0.2429261 | -1.240155 | -1.212227 |\n| -1.177060 |  0.7333376 | -0.2046032 | -1.596737 | -1.553692 |\n\n",
            "text/latex": "A matrix: 6 × 5 of type dbl\n\\begin{tabular}{lllll}\n carat & depth & table & x & y\\\\\n\\hline\n\t -1.198157 & -0.1740899 & -1.0996618 & -1.587823 & -1.536181\\\\\n\t -1.240350 & -1.3607259 &  1.5855140 & -1.641310 & -1.658759\\\\\n\t -1.198157 & -3.3849872 &  3.3756312 & -1.498677 & -1.457382\\\\\n\t -1.071577 &  0.4541292 &  0.2429261 & -1.364959 & -1.317293\\\\\n\t -1.029384 &  1.0823482 &  0.2429261 & -1.240155 & -1.212227\\\\\n\t -1.177060 &  0.7333376 & -0.2046032 & -1.596737 & -1.553692\\\\\n\\end{tabular}\n",
            "text/plain": [
              "     carat     depth      table      x         y        \n",
              "[1,] -1.198157 -0.1740899 -1.0996618 -1.587823 -1.536181\n",
              "[2,] -1.240350 -1.3607259  1.5855140 -1.641310 -1.658759\n",
              "[3,] -1.198157 -3.3849872  3.3756312 -1.498677 -1.457382\n",
              "[4,] -1.071577  0.4541292  0.2429261 -1.364959 -1.317293\n",
              "[5,] -1.029384  1.0823482  0.2429261 -1.240155 -1.212227\n",
              "[6,] -1.177060  0.7333376 -0.2046032 -1.596737 -1.553692"
            ]
          },
          "metadata": {}
        },
        {
          "output_type": "display_data",
          "data": {
            "text/html": [
              "<style>\n",
              ".list-inline {list-style: none; margin:0; padding: 0}\n",
              ".list-inline>li {display: inline-block}\n",
              ".list-inline>li:not(:last-child)::after {content: \"\\00b7\"; padding: 0 .5ex}\n",
              "</style>\n",
              "<ol class=list-inline><li>1000</li><li>2</li></ol>\n"
            ],
            "text/markdown": "1. 1000\n2. 2\n\n\n",
            "text/latex": "\\begin{enumerate*}\n\\item 1000\n\\item 2\n\\end{enumerate*}\n",
            "text/plain": [
              "[1] 1000    2"
            ]
          },
          "metadata": {}
        },
        {
          "output_type": "display_data",
          "data": {
            "text/html": [
              "<style>\n",
              ".list-inline {list-style: none; margin:0; padding: 0}\n",
              ".list-inline>li {display: inline-block}\n",
              ".list-inline>li:not(:last-child)::after {content: \"\\00b7\"; padding: 0 .5ex}\n",
              "</style>\n",
              "<ol class=list-inline><li>52940</li><li>2</li></ol>\n"
            ],
            "text/markdown": "1. 52940\n2. 2\n\n\n",
            "text/latex": "\\begin{enumerate*}\n\\item 52940\n\\item 2\n\\end{enumerate*}\n",
            "text/plain": [
              "[1] 52940     2"
            ]
          },
          "metadata": {}
        },
        {
          "output_type": "display_data",
          "data": {
            "text/html": [
              "52940"
            ],
            "text/markdown": "52940",
            "text/latex": "52940",
            "text/plain": [
              "[1] 52940"
            ]
          },
          "metadata": {}
        },
        {
          "output_type": "stream",
          "name": "stdout",
          "text": [
            "[1] \"Accuracy: 0.932\"\n"
          ]
        },
        {
          "output_type": "display_data",
          "data": {
            "text/plain": [
              "         actual\n",
              "predicted    0    1\n",
              "        0 9728  391\n",
              "        1  518 5545"
            ]
          },
          "metadata": {}
        },
        {
          "output_type": "stream",
          "name": "stdout",
          "text": [
            "[1] \"---\"\n",
            "[1] \"Accuracy: 0.943826473859844\"\n"
          ]
        }
      ],
      "source": [
        "head(df)\n",
        "\n",
        "set.seed(2023)\n",
        "\n",
        "# standardize entire dataframe, except for price_bin\n",
        "\n",
        "df1 <- data.matrix(df)\n",
        "\n",
        "stand.df <- scale(df1[,-(6:8)])\n",
        "head(stand.df) #see standardized predictors\n",
        "\n",
        "\n",
        "\n",
        "#test\n",
        "test.preds <- stand.df[1:1000,1:2] \n",
        "dim(test.preds)\n",
        "\n",
        "#train\n",
        "train.preds <- stand.df[1001:nrow(stand.df),1:2] \n",
        "dim(train.preds)\n",
        "\n",
        "train.price <- df1[1001:nrow(df1),6]\n",
        "length(train.price)\n",
        "\n",
        "#run knn\n",
        "test.purch.knn <- knn(train.preds,test.preds,train.price,k=9)\n",
        "print(paste(\"Accuracy:\",mean(test.purch.knn==df1[1:1000,6])))\n",
        "\n",
        "\n",
        "confusion_df <- data.frame(predicted = test.spec.knn,actual = test$price_bin)\n",
        "table(confusion_df)\n",
        "print(\"---\")\n",
        "print(paste(\"Accuracy:\",mean(confusion_df$predicted == confusion_df$actual)))"
      ]
    },
    {
      "cell_type": "markdown",
      "metadata": {
        "id": "yl3pqjEA_cZO"
      },
      "source": [
        "What impact did rescaling the data have on your error rate?\n",
        "> * *Write response here*\n",
        ">\n",
        "> * Accuracy is the same with this model as is error rate.\n",
        "\n"
      ]
    },
    {
      "cell_type": "markdown",
      "metadata": {
        "id": "XSFcQXke_cZO"
      },
      "source": [
        "**DUE:** 5pm March 22, 2023\n",
        "\n",
        "**IMPORTANT** Did you collaborate with anyone on this assignment? If so, list their names here.\n",
        "> *Someone's Name*\n",
        "> Jess M.\n",
        ">\n"
      ]
    }
  ],
  "metadata": {
    "colab": {
      "provenance": []
    },
    "kernelspec": {
      "display_name": "R",
      "language": "R",
      "name": "ir"
    },
    "language_info": {
      "codemirror_mode": "r",
      "file_extension": ".r",
      "mimetype": "text/x-r-source",
      "name": "R",
      "pygments_lexer": "r",
      "version": "4.2.0"
    }
  },
  "nbformat": 4,
  "nbformat_minor": 0
}